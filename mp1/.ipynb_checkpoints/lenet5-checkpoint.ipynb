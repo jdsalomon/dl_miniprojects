{
 "cells": [
  {
   "cell_type": "markdown",
   "metadata": {},
   "source": [
    "# MP 1 : Classification, wieght sharing, auxiliary losses"
   ]
  },
  {
   "cell_type": "code",
   "execution_count": 2,
   "metadata": {},
   "outputs": [],
   "source": [
    "import torch\n",
    "from torch import nn\n",
    "import torch.nn.functional as F\n",
    "\n",
    "import matplotlib.pyplot as plt\n",
    "import random \n",
    "\n",
    "from dlc_pratical_prologue import generate_pair_sets"
   ]
  },
  {
   "cell_type": "markdown",
   "metadata": {},
   "source": [
    "## The data"
   ]
  },
  {
   "cell_type": "markdown",
   "metadata": {},
   "source": [
    "Train set size = Test size = 1000"
   ]
  },
  {
   "cell_type": "code",
   "execution_count": 3,
   "metadata": {},
   "outputs": [],
   "source": [
    "N = 1000\n",
    "train_input, train_target, train_classes, test_input, test_target, test_classes = generate_pair_sets(N)"
   ]
  },
  {
   "cell_type": "code",
   "execution_count": 4,
   "metadata": {},
   "outputs": [],
   "source": [
    "inp = train_input[0]"
   ]
  },
  {
   "cell_type": "code",
   "execution_count": 5,
   "metadata": {},
   "outputs": [
    {
     "data": {
      "text/plain": [
       "(torch.Size([1000, 2, 14, 14]), torch.Size([1000]), torch.Size([1000, 2]))"
      ]
     },
     "execution_count": 5,
     "metadata": {},
     "output_type": "execute_result"
    }
   ],
   "source": [
    "train_input.shape, train_target.shape, train_classes.shape"
   ]
  },
  {
   "cell_type": "code",
   "execution_count": 6,
   "metadata": {},
   "outputs": [
    {
     "data": {
      "text/plain": [
       "(torch.Size([1000, 2, 14, 14]), torch.Size([1000]), torch.Size([1000, 2]))"
      ]
     },
     "execution_count": 6,
     "metadata": {},
     "output_type": "execute_result"
    }
   ],
   "source": [
    "test_input.shape, test_target.shape, test_classes.shape"
   ]
  },
  {
   "cell_type": "markdown",
   "metadata": {},
   "source": [
    "#### The images"
   ]
  },
  {
   "cell_type": "code",
   "execution_count": 7,
   "metadata": {},
   "outputs": [
    {
     "data": {
      "image/png": "[encoded data removed]",
      "text/plain": [
       "<Figure size 432x288 with 1 Axes>"
      ]
     },
     "metadata": {
      "needs_background": "light"
     },
     "output_type": "display_data"
    },
    {
     "data": {
      "image/png": "[encoded data removed]",
      "text/plain": [
       "<Figure size 432x288 with 1 Axes>"
      ]
     },
     "metadata": {
      "needs_background": "light"
     },
     "output_type": "display_data"
    },
    {
     "data": {
      "image/png": "[encoded data removed]",
      "text/plain": [
       "<Figure size 432x288 with 1 Axes>"
      ]
     },
     "metadata": {
      "needs_background": "light"
     },
     "output_type": "display_data"
    },
    {
     "data": {
      "image/png": "[encoded data removed]",
      "text/plain": [
       "<Figure size 432x288 with 1 Axes>"
      ]
     },
     "metadata": {
      "needs_background": "light"
     },
     "output_type": "display_data"
    },
    {
     "data": {
      "image/png": "[encoded data removed]",
      "text/plain": [
       "<Figure size 432x288 with 1 Axes>"
      ]
     },
     "metadata": {
      "needs_background": "light"
     },
     "output_type": "display_data"
    },
    {
     "data": {
      "text/plain": [
       "<Figure size 432x288 with 0 Axes>"
      ]
     },
     "metadata": {},
     "output_type": "display_data"
    }
   ],
   "source": [
    "for i in range(5):\n",
    "    index = random.randint(0, 1000)\n",
    "    plt.imshow(train_input[index][0])\n",
    "    plt.title(\"Number : {0}\".format(train_classes[index][0]))\n",
    "    plt.figure()"
   ]
  },
  {
   "cell_type": "markdown",
   "metadata": {},
   "source": [
    "#### Class balance"
   ]
  },
  {
   "cell_type": "code",
   "execution_count": 8,
   "metadata": {},
   "outputs": [
    {
     "data": {
      "text/plain": [
       "(tensor(449), tensor(551))"
      ]
     },
     "execution_count": 8,
     "metadata": {},
     "output_type": "execute_result"
    }
   ],
   "source": [
    "#Train\n",
    "num_ones = train_target.sum()\n",
    "num_zeros = N - num_ones\n",
    "num_zeros, num_ones"
   ]
  },
  {
   "cell_type": "code",
   "execution_count": 9,
   "metadata": {},
   "outputs": [
    {
     "data": {
      "text/plain": [
       "(tensor(474), tensor(526))"
      ]
     },
     "execution_count": 9,
     "metadata": {},
     "output_type": "execute_result"
    }
   ],
   "source": [
    "#Test\n",
    "num_ones = test_target.sum()\n",
    "num_zeros = N - num_ones\n",
    "num_zeros, num_ones"
   ]
  },
  {
   "cell_type": "code",
   "execution_count": 10,
   "metadata": {},
   "outputs": [
    {
     "data": {
      "text/plain": [
       "(array([173., 252., 204., 234., 184., 185., 191., 199., 182., 196.]),\n",
       " array([0. , 0.9, 1.8, 2.7, 3.6, 4.5, 5.4, 6.3, 7.2, 8.1, 9. ]),\n",
       " <a list of 10 Patch objects>)"
      ]
     },
     "execution_count": 10,
     "metadata": {},
     "output_type": "execute_result"
    },
    {
     "data": {
      "image/png": "[encoded data removed]",
      "text/plain": [
       "<Figure size 432x288 with 1 Axes>"
      ]
     },
     "metadata": {
      "needs_background": "light"
     },
     "output_type": "display_data"
    }
   ],
   "source": [
    "plt.hist(train_classes.reshape(2000))"
   ]
  },
  {
   "cell_type": "code",
   "execution_count": 11,
   "metadata": {},
   "outputs": [
    {
     "data": {
      "text/plain": [
       "(array([197., 232., 192., 192., 178., 197., 192., 217., 210., 193.]),\n",
       " array([0. , 0.9, 1.8, 2.7, 3.6, 4.5, 5.4, 6.3, 7.2, 8.1, 9. ]),\n",
       " <a list of 10 Patch objects>)"
      ]
     },
     "execution_count": 11,
     "metadata": {},
     "output_type": "execute_result"
    },
    {
     "data": {
      "image/png": "[encoded data removed]",
      "text/plain": [
       "<Figure size 432x288 with 1 Axes>"
      ]
     },
     "metadata": {
      "needs_background": "light"
     },
     "output_type": "display_data"
    }
   ],
   "source": [
    "plt.hist(test_classes.reshape(2000))"
   ]
  },
  {
   "cell_type": "markdown",
   "metadata": {},
   "source": [
    "Balance classes ? "
   ]
  },
  {
   "cell_type": "markdown",
   "metadata": {},
   "source": [
    "## The model\n",
    "### Shape"
   ]
  },
  {
   "cell_type": "markdown",
   "metadata": {},
   "source": [
    "- Input (2x14x14):2 14x14 greyscale images\n",
    "- Output (1x1): one class (0 or 1)\n",
    "- Layers?"
   ]
  },
  {
   "cell_type": "markdown",
   "metadata": {},
   "source": [
    "#### Model structure\n",
    "- LeNet5: https://www.datasciencecentral.com/profiles/blogs/lenet-5-a-classic-cnn-architecture#:~:text=The%20LeNet%2D5%20architecture%20consists,and%20finally%20a%20softmax%20classifier.\n",
    "- Multi.column DNN: https://arxiv.org/pdf/1202.2745.pdf"
   ]
  },
  {
   "cell_type": "markdown",
   "metadata": {},
   "source": [
    "### Building the model"
   ]
  },
  {
   "cell_type": "code",
   "execution_count": 179,
   "metadata": {},
   "outputs": [],
   "source": [
    "def plot_train_vs_test(train_acc, test_acc, train_loss, test_loss):\n",
    "    best_ind = test_acc.index(max(test_acc)) + 1\n",
    "    plt.plot(list(range(1, len(train_acc) + 1)), train_acc, color=\"blue\", label=\"train\")\n",
    "    plt.plot(list(range(1, len(test_acc) + 1)), test_acc, color=\"red\", label=\"test\")\n",
    "    plt.vlines(best_ind, 0, 1, label=\"best epoch = {0}\".format(best_ind))\n",
    "    plt.xlabel(\"Epoch\")\n",
    "    plt.ylabel(\"Accuracy\")\n",
    "    plt.title(\"Accuracy given epoch for train dataset (blue) and test dataset (red)\")\n",
    "    plt.legend()\n",
    "    plt.figure()\n",
    "    ######\n",
    "    plt.plot(list(range(1, len(train_loss) + 1)), train_loss, color=\"blue\", label=\"train\")\n",
    "    plt.plot(list(range(1, len(test_loss) + 1)), test_loss, color=\"red\", label=\"test\")\n",
    "    plt.vlines(best_ind, 0, max(test_loss), label=\"best epoch = {0}\".format(best_ind))\n",
    "    plt.xlabel(\"Epoch\")\n",
    "    plt.ylabel(\"Loss\")\n",
    "    plt.title(\"Loss given epoch for train dataset (blue) and test dataset (red)\")\n",
    "    plt.legend()\n",
    "    plt.figure()"
   ]
  },
  {
   "cell_type": "code",
   "execution_count": 187,
   "metadata": {},
   "outputs": [],
   "source": [
    "N_EPOCH = 50\n",
    "BATCH = 100\n",
    "LR = 0.01\n",
    "class Sub_LeNet5(nn.Module):\n",
    "    \n",
    "    def __init__(self, weight_sharing=False, aux_loss=False):\n",
    "        super(Sub_LeNet5, self).__init__()\n",
    "        #settings stuff\n",
    "        self.weight_sharing = weight_sharing\n",
    "        self.aux_loss = aux_loss \n",
    "        \n",
    "        #Layers from LeNet5 (but start from layer 3, to adapt to the size of the images)\n",
    "        #For the first image\n",
    "        self.conv1 = nn.Conv2d(1, 16, kernel_size=5, stride=1)\n",
    "        self.avgPool = nn.AvgPool2d(2, stride=2)\n",
    "        self.conv2 = nn.Conv2d(16, 120, kernel_size=5, stride=1)        \n",
    "        self.linear1 = nn.Linear(120, 84)\n",
    "        self.linear2 = nn.Linear(84, 10)\n",
    "        \n",
    "        #For the second image (only use if no weight sharing)\n",
    "        self.conv1_im2 = nn.Conv2d(1, 16, kernel_size=5, stride=1)\n",
    "        self.avgPool_im2 = nn.AvgPool2d(2, stride=2)\n",
    "        self.conv2_im2 = nn.Conv2d(16, 120, kernel_size=5)\n",
    "        self.linear1_im2 = nn.Linear(120, 84)\n",
    "        self.linear2_im2 = nn.Linear(84, 10)\n",
    "        \n",
    "        #To compare the images\n",
    "        self.comp1 = nn.Linear(20, 100)\n",
    "        self.comp2 = nn.Linear(100, 100)\n",
    "        self.out = nn.Linear(100, 1)\n",
    "        \n",
    "    def forward(self, x):\n",
    "        im1, im2 =  x[:, 0], x[:, 1]\n",
    "        \n",
    "        im1 = im1.reshape(-1,1,14,14)\n",
    "        im1 = torch.tanh(self.conv1(im1)) \n",
    "        im1 = self.avgPool(im1)\n",
    "        im1 = torch.tanh(self.conv2(im1)).reshape(-1, 120)\n",
    "        im1 = torch.relu(self.linear1(im1))\n",
    "        im1 = torch.softmax(self.linear2(im1), dim=1)\n",
    "        \n",
    "        im2 = im2.reshape(-1,1,14,14)\n",
    "        if self.weight_sharing:        \n",
    "            #Use the same layers for im1 and im2 if there is weight sharing\n",
    "            im2 = torch.tanh(self.conv1(im2)) \n",
    "            im2 = self.avgPool(im2)\n",
    "            im2 = torch.tanh(self.conv2(im2)).reshape(-1, 120)\n",
    "            im2 = torch.relu(self.linear1(im2))\n",
    "            im2 = torch.softmax(self.linear2(im2), dim=1)\n",
    "        else : \n",
    "            im2 = torch.tanh(self.conv1_im2(im2))\n",
    "            im2 = self.avgPool_im2(im2)\n",
    "            im2 = torch.tanh(self.conv2_im2(im2)).reshape(-1, 120)\n",
    "            im2 = torch.relu(self.linear1_im2(im2))\n",
    "            im2 = torch.softmax(self.linear2_im2(im2), dim=1)\n",
    "        \n",
    "        if self.aux_loss:\n",
    "            return im1, im2\n",
    "        else:\n",
    "            preds = torch.cat((im1, im2), dim=1)\n",
    "            preds = torch.relu(self.comp1(preds))\n",
    "            preds = torch.relu(self.comp2(preds))\n",
    "            y = torch.sigmoid(self.out(preds)).reshape(-1)\n",
    "            return y\n",
    "    \n",
    "    def predict(self, test, target, loss_function):\n",
    "        target = target.float()\n",
    "        with torch.no_grad():\n",
    "            if self.aux_loss:\n",
    "                classes1, classes2 = self(test)\n",
    "                loss = loss_function(classes1, classes[:, 0].long()) + loss_function(classes2, classes[:, 1].long())                    \n",
    "                nums1, nums2 =  classes1.max(dim=1)[1], classes2.max(dim=1)[1]\n",
    "                pred = (nums1 <= nums2)\n",
    "                target = target[:,0] <= target[:, 1]\n",
    "                correct = (pred == target).sum().item()\n",
    "                acc = correct / test.size(0)\n",
    "                return pred, acc, loss\n",
    "            else:\n",
    "                output = self(test)\n",
    "                loss = loss_function(output, target)\n",
    "                pred = output.round()\n",
    "                correct = (target == pred).sum().item()\n",
    "                acc = correct / test.size(0)\n",
    "                return pred, acc, loss\n",
    "            \n",
    "    def fit(self, train_input, train_target, train_classes, test_input, test_target, test_classes, optimizer, loss_function, lr=LR, batch_size=BATCH, N_EPOCH=N_EPOCH):\n",
    "        model_name = \"best_model\"\n",
    "        if self.weight_sharing:\n",
    "            model_name += \"_with_ws\"\n",
    "        if self.aux_loss:\n",
    "            model_name += \"_with_aux_loss\"\n",
    "        \n",
    "        if self.aux_loss:\n",
    "            dataset = torch.utils.data.TensorDataset(train_input, train_classes.float())\n",
    "            loader = torch.utils.data.DataLoader(dataset, batch_size=batch_size, shuffle=True)\n",
    "        else:\n",
    "            dataset = torch.utils.data.TensorDataset(train_input, train_target.float())\n",
    "            loader = torch.utils.data.DataLoader(dataset, batch_size=batch_size, shuffle=True)\n",
    "        \n",
    "        train_accs, train_losses = [], []\n",
    "        test_accs, test_losses = [], []\n",
    "        max_acc, best_epoch = -1, -1\n",
    "        for epoch in range(N_EPOCH):\n",
    "            running_loss = 0\n",
    "            for data in loader:\n",
    "                batch_x, batch_y = data\n",
    "                loss = 0\n",
    "                if self.aux_loss:\n",
    "                    classes1, classes2 = self(batch_x)\n",
    "                    loss = loss_function(classes1, batch_y[:, 0].long()) + loss_function(classes2, batch_y[:, 1].long())                    \n",
    "                else:\n",
    "                    outputs = self(batch_x)\n",
    "                    loss = loss_function(outputs, batch_y)\n",
    "                    \n",
    "                running_loss += loss.item()\n",
    "                \n",
    "                optimizer.zero_grad()\n",
    "                loss.backward()\n",
    "                optimizer.step()\n",
    "                _, train_acc, train_loss = self.predict(train_input, train_target, criterion) \n",
    "                _, test_acc, test_loss = self.predict(test_input, test_target, criterion)\n",
    "            \n",
    "            if test_acc > max_acc:\n",
    "                max_acc = test_acc\n",
    "                best_epoch = epoch + 1\n",
    "                torch.save(self.state_dict(), model_name + \".p\")\n",
    "            train_accs.append(train_acc)\n",
    "            train_losses.append(train_loss)\n",
    "            test_accs.append(test_acc)\n",
    "            test_losses.append(test_loss)\n",
    "            print(\"Epoch {0} \\t Loss: {1} \\t Train accuracy: {2} \\t Test accuracy: {3}\".format(epoch + 1, running_loss, train_acc, test_acc))\n",
    "            running_loss = 0.0\n",
    "        plot_train_vs_test(train_accs, test_accs, train_losses, test_losses)\n",
    "        return train_accs, train_losses, test_accs, test_losses "
   ]
  },
  {
   "cell_type": "markdown",
   "metadata": {},
   "source": [
    "### 1. No weight sharing, no auxiliary loss"
   ]
  },
  {
   "cell_type": "markdown",
   "metadata": {},
   "source": [
    "Convert each images separately to a 10 dimensional tensors, using LeNet5 architecture, then use the two 10 dimensional tensors to interpret them in a few fully connected layers, and output the final class."
   ]
  },
  {
   "cell_type": "code",
   "execution_count": null,
   "metadata": {},
   "outputs": [
    {
     "name": "stdout",
     "output_type": "stream",
     "text": [
      "Number of params :  131401\n",
      "Epoch 1 \t Loss: 6.7276042103767395 \t Train accuracy: 0.679 \t Test accuracy: 0.666\n",
      "Epoch 2 \t Loss: 6.0268349051475525 \t Train accuracy: 0.745 \t Test accuracy: 0.731\n",
      "Epoch 3 \t Loss: 5.4135419726371765 \t Train accuracy: 0.703 \t Test accuracy: 0.699\n",
      "Epoch 4 \t Loss: 5.250926226377487 \t Train accuracy: 0.769 \t Test accuracy: 0.768\n",
      "Epoch 5 \t Loss: 4.853163927793503 \t Train accuracy: 0.812 \t Test accuracy: 0.769\n",
      "Epoch 6 \t Loss: 4.6485735476017 \t Train accuracy: 0.798 \t Test accuracy: 0.757\n",
      "Epoch 7 \t Loss: 4.183396726846695 \t Train accuracy: 0.854 \t Test accuracy: 0.799\n",
      "Epoch 8 \t Loss: 3.9279916882514954 \t Train accuracy: 0.855 \t Test accuracy: 0.812\n",
      "Epoch 9 \t Loss: 3.7696887850761414 \t Train accuracy: 0.861 \t Test accuracy: 0.792\n"
     ]
    }
   ],
   "source": [
    "model = Sub_LeNet5()\n",
    "\n",
    "criterion = nn.BCELoss()\n",
    "optimizer = torch.optim.Adam(model.parameters(), lr=lr)\n",
    "\n",
    "num_params = sum(p.numel() for p in model.parameters())\n",
    "print(\"Number of params : \", num_params)\n",
    "train_acc, train_loss, test_acc, test_loss = model.fit(train_input, train_target, train_classes, test_input, test_target, test_classes, optimizer, criterion)        "
   ]
  },
  {
   "cell_type": "markdown",
   "metadata": {},
   "source": [
    "### 2. Using weight sharing"
   ]
  },
  {
   "cell_type": "code",
   "execution_count": null,
   "metadata": {},
   "outputs": [],
   "source": [
    "model = Sub_LeNet5(weight_sharing=True)\n",
    "\n",
    "criterion = nn.BCELoss()\n",
    "optimizer = torch.optim.Adam(model.parameters(), lr=lr)\n",
    "num_params = sum(p.numel() for p in model.parameters())\n",
    "print(\"Number of params : \", num_params)\n",
    "train_acc, train_loss, test_acc, test_loss = model.fit(train_input, train_target, train_classes, test_input, test_target, test_classes, optimizer, criterion)        "
   ]
  },
  {
   "cell_type": "markdown",
   "metadata": {},
   "source": [
    "### 3. Using auxiliary loss"
   ]
  },
  {
   "cell_type": "code",
   "execution_count": null,
   "metadata": {},
   "outputs": [],
   "source": [
    "model = Sub_LeNet5(aux_loss=True)\n",
    "\n",
    "criterion = nn.CrossEntropyLoss()\n",
    "optimizer = torch.optim.Adam(model.parameters(), lr=lr)\n",
    "num_params = sum(p.numel() for p in model.parameters())\n",
    "print(\"Number of params : \", num_params)\n",
    "train_acc, train_loss, test_acc, test_loss = model.fit(train_input, train_target, train_classes, test_input, test_target, test_classes, optimizer, criterion)        "
   ]
  },
  {
   "cell_type": "markdown",
   "metadata": {},
   "source": [
    "### 4. Bad ass model: using it all"
   ]
  },
  {
   "cell_type": "code",
   "execution_count": null,
   "metadata": {},
   "outputs": [],
   "source": [
    "model = Sub_LeNet5(weight_sharing=True, aux_loss=True)\n",
    "\n",
    "criterion = nn.CrossEntropyLoss()\n",
    "optimizer = torch.optim.Adam(model.parameters(), lr=lr)\n",
    "num_params = sum(p.numel() for p in model.parameters())\n",
    "print(\"Number of params : \", num_params)\n",
    "train_acc, train_loss, test_acc, test_loss = model.fit(train_input, train_target, train_classes, test_input, test_target, test_classes, optimizer, criterion)        "
   ]
  }
 ],
 "metadata": {
  "kernelspec": {
   "display_name": "Python 3",
   "language": "python",
   "name": "python3"
  },
  "language_info": {
   "codemirror_mode": {
    "name": "ipython",
    "version": 3
   },
   "file_extension": ".py",
   "mimetype": "text/x-python",
   "name": "python",
   "nbconvert_exporter": "python",
   "pygments_lexer": "ipython3",
   "version": "3.8.1"
  }
 },
 "nbformat": 4,
 "nbformat_minor": 4
}
