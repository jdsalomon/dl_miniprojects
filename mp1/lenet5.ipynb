{
 "cells": [
  {
   "cell_type": "markdown",
   "metadata": {},
   "source": [
    "# MP 1 : Classification, wieght sharing, auxiliary losses"
   ]
  },
  {
   "cell_type": "code",
   "execution_count": 136,
   "metadata": {},
   "outputs": [],
   "source": [
    "import torch\n",
    "from torch import nn\n",
    "import torch.nn.functional as F\n",
    "\n",
    "import matplotlib.pyplot as plt\n",
    "import random \n",
    "\n",
    "from dlc_pratical_prologue import generate_pair_sets"
   ]
  },
  {
   "cell_type": "markdown",
   "metadata": {},
   "source": [
    "## The data"
   ]
  },
  {
   "cell_type": "markdown",
   "metadata": {},
   "source": [
    "Train set size = Test size = 1000"
   ]
  },
  {
   "cell_type": "code",
   "execution_count": 137,
   "metadata": {},
   "outputs": [],
   "source": [
    "N = 1000\n",
    "train_input, train_target, train_classes, test_input, test_target, test_classes = generate_pair_sets(N)"
   ]
  },
  {
   "cell_type": "code",
   "execution_count": 138,
   "metadata": {},
   "outputs": [],
   "source": [
    "inp = train_input[0]"
   ]
  },
  {
   "cell_type": "code",
   "execution_count": 139,
   "metadata": {},
   "outputs": [
    {
     "data": {
      "text/plain": [
       "(torch.Size([1000, 2, 14, 14]), torch.Size([1000]), torch.Size([1000, 2]))"
      ]
     },
     "execution_count": 139,
     "metadata": {},
     "output_type": "execute_result"
    }
   ],
   "source": [
    "train_input.shape, train_target.shape, train_classes.shape"
   ]
  },
  {
   "cell_type": "code",
   "execution_count": 140,
   "metadata": {},
   "outputs": [
    {
     "data": {
      "text/plain": [
       "(torch.Size([1000, 2, 14, 14]), torch.Size([1000]), torch.Size([1000, 2]))"
      ]
     },
     "execution_count": 140,
     "metadata": {},
     "output_type": "execute_result"
    }
   ],
   "source": [
    "test_input.shape, test_target.shape, test_classes.shape"
   ]
  },
  {
   "cell_type": "markdown",
   "metadata": {},
   "source": [
    "#### The images"
   ]
  },
  {
   "cell_type": "code",
   "execution_count": 141,
   "metadata": {},
   "outputs": [
    {
     "data": {
      "image/png": "[encoded data removed]",
      "text/plain": [
       "<Figure size 432x288 with 1 Axes>"
      ]
     },
     "metadata": {
      "needs_background": "light"
     },
     "output_type": "display_data"
    },
    {
     "data": {
      "image/png": "[encoded data removed]",
      "text/plain": [
       "<Figure size 432x288 with 1 Axes>"
      ]
     },
     "metadata": {
      "needs_background": "light"
     },
     "output_type": "display_data"
    },
    {
     "data": {
      "image/png": "[encoded data removed]",
      "text/plain": [
       "<Figure size 432x288 with 1 Axes>"
      ]
     },
     "metadata": {
      "needs_background": "light"
     },
     "output_type": "display_data"
    },
    {
     "data": {
      "image/png": "[encoded data removed]",
      "text/plain": [
       "<Figure size 432x288 with 1 Axes>"
      ]
     },
     "metadata": {
      "needs_background": "light"
     },
     "output_type": "display_data"
    },
    {
     "data": {
      "image/png": "[encoded data removed]",
      "text/plain": [
       "<Figure size 432x288 with 1 Axes>"
      ]
     },
     "metadata": {
      "needs_background": "light"
     },
     "output_type": "display_data"
    },
    {
     "data": {
      "text/plain": [
       "<Figure size 432x288 with 0 Axes>"
      ]
     },
     "metadata": {},
     "output_type": "display_data"
    }
   ],
   "source": [
    "for i in range(5):\n",
    "    index = random.randint(0, 1000)\n",
    "    plt.imshow(train_input[index][0])\n",
    "    plt.title(\"Number : {0}\".format(train_classes[index][0]))\n",
    "    plt.figure()"
   ]
  },
  {
   "cell_type": "markdown",
   "metadata": {},
   "source": [
    "#### Class balance"
   ]
  },
  {
   "cell_type": "code",
   "execution_count": 142,
   "metadata": {},
   "outputs": [
    {
     "data": {
      "text/plain": [
       "(tensor(424), tensor(576))"
      ]
     },
     "execution_count": 142,
     "metadata": {},
     "output_type": "execute_result"
    }
   ],
   "source": [
    "#Train\n",
    "num_ones = train_target.sum()\n",
    "num_zeros = N - num_ones\n",
    "num_zeros, num_ones"
   ]
  },
  {
   "cell_type": "code",
   "execution_count": 143,
   "metadata": {},
   "outputs": [
    {
     "data": {
      "text/plain": [
       "(tensor(439), tensor(561))"
      ]
     },
     "execution_count": 143,
     "metadata": {},
     "output_type": "execute_result"
    }
   ],
   "source": [
    "#Test\n",
    "num_ones = test_target.sum()\n",
    "num_zeros = N - num_ones\n",
    "num_zeros, num_ones"
   ]
  },
  {
   "cell_type": "code",
   "execution_count": 144,
   "metadata": {},
   "outputs": [
    {
     "data": {
      "text/plain": [
       "(array([196., 231., 201., 202., 187., 182., 206., 212., 183., 200.]),\n",
       " array([0. , 0.9, 1.8, 2.7, 3.6, 4.5, 5.4, 6.3, 7.2, 8.1, 9. ]),\n",
       " <a list of 10 Patch objects>)"
      ]
     },
     "execution_count": 144,
     "metadata": {},
     "output_type": "execute_result"
    },
    {
     "data": {
      "image/png": "[encoded data removed]",
      "text/plain": [
       "<Figure size 432x288 with 1 Axes>"
      ]
     },
     "metadata": {
      "needs_background": "light"
     },
     "output_type": "display_data"
    }
   ],
   "source": [
    "plt.hist(train_classes.reshape(2000))"
   ]
  },
  {
   "cell_type": "code",
   "execution_count": 145,
   "metadata": {},
   "outputs": [
    {
     "data": {
      "text/plain": [
       "(array([184., 220., 202., 198., 208., 161., 191., 229., 182., 225.]),\n",
       " array([0. , 0.9, 1.8, 2.7, 3.6, 4.5, 5.4, 6.3, 7.2, 8.1, 9. ]),\n",
       " <a list of 10 Patch objects>)"
      ]
     },
     "execution_count": 145,
     "metadata": {},
     "output_type": "execute_result"
    },
    {
     "data": {
      "image/png": "[encoded data removed]",
      "text/plain": [
       "<Figure size 432x288 with 1 Axes>"
      ]
     },
     "metadata": {
      "needs_background": "light"
     },
     "output_type": "display_data"
    }
   ],
   "source": [
    "plt.hist(test_classes.reshape(2000))"
   ]
  },
  {
   "cell_type": "markdown",
   "metadata": {},
   "source": [
    "Balance classes ? "
   ]
  },
  {
   "cell_type": "markdown",
   "metadata": {},
   "source": [
    "## The model\n",
    "### Shape"
   ]
  },
  {
   "cell_type": "markdown",
   "metadata": {},
   "source": [
    "- Input (2x14x14):2 14x14 greyscale images\n",
    "- Output (1x1): one class (0 or 1)\n",
    "- Layers?"
   ]
  },
  {
   "cell_type": "markdown",
   "metadata": {},
   "source": [
    "#### Model structure\n",
    "- LeNet5: https://www.datasciencecentral.com/profiles/blogs/lenet-5-a-classic-cnn-architecture#:~:text=The%20LeNet%2D5%20architecture%20consists,and%20finally%20a%20softmax%20classifier.\n",
    "- Multi.column DNN: https://arxiv.org/pdf/1202.2745.pdf"
   ]
  },
  {
   "cell_type": "markdown",
   "metadata": {},
   "source": [
    "#### Running the model"
   ]
  },
  {
   "cell_type": "markdown",
   "metadata": {},
   "source": [
    "### 1. No weight sharing, no auxiliary loss"
   ]
  },
  {
   "cell_type": "markdown",
   "metadata": {},
   "source": [
    "Convert each images separately to a 10 dimensional tensors, using LeNet5 architecture, then use the two 10 dimensional tensors to interpret them in a few fully connected layers, and output the final class."
   ]
  },
  {
   "cell_type": "code",
   "execution_count": 170,
   "metadata": {},
   "outputs": [],
   "source": [
    "class Sub_LeNet5(nn.Module):\n",
    "    def __init__(self):\n",
    "        super(Sub_LeNet5, self).__init__()\n",
    "        #Start from layer 3 of LeNet5!\n",
    "        \n",
    "        #For the first image\n",
    "        self.conv1_im1 = nn.Conv2d(1, 16, kernel_size=5, stride=1)\n",
    "        self.pool1_im1 = nn.AvgPool2d(2, stride=2)\n",
    "        self.conv2_im1 = nn.Conv2d(16, 120, kernel_size=5, stride=1)\n",
    "        self.linear1_im1 = nn.Linear(120, 84)\n",
    "        self.linear2_im1 = nn.Linear(84, 10)\n",
    "        \n",
    "        #For the second image\n",
    "        self.conv1_im2 = nn.Conv2d(1, 16, kernel_size=5, stride=1)\n",
    "        self.pool1_im2 = nn.AvgPool2d(2, stride=2)\n",
    "        self.conv2_im2 = nn.Conv2d(16, 120, kernel_size=5)\n",
    "        self.linear1_im2 = nn.Linear(120, 84)\n",
    "        self.linear2_im2 = nn.Linear(84, 10)\n",
    "        \n",
    "        #To compare the images\n",
    "        self.comp1 = nn.Linear(20, 100)\n",
    "        self.comp2 = nn.Linear(100, 100)\n",
    "        self.out = nn.Linear(100, 1)\n",
    "        \n",
    "    def forward(self, x):\n",
    "        x = x.reshape(2, -1, 14, 14)\n",
    "        im1, im2 = x[0].reshape(-1,1,14,14), x[1].reshape(-1,1,14,14)\n",
    "        im1 = torch.tanh(self.conv1_im1(im1))\n",
    "        im1 = self.pool1_im1(im1)\n",
    "        im1 = torch.tanh(self.conv2_im1(im1)).reshape(-1, 120)\n",
    "        im1 = torch.relu(self.linear1_im1(im1))\n",
    "        im1 = self.linear2_im1(im1)\n",
    "        im1 = torch.softmax(im1, dim=1)\n",
    "        \n",
    "        im2 = torch.tanh(self.conv1_im2(im2.reshape(-1,1,14,14)))\n",
    "        im2 = self.pool1_im2(im2)\n",
    "        im2 = torch.tanh(self.conv2_im2(im2)).reshape(-1, 120)\n",
    "        im2 = torch.relu(self.linear1_im2(im2))\n",
    "        im2 = self.linear2_im2(im2)\n",
    "        im2 = torch.softmax(im2, dim=1)\n",
    "        \n",
    "        preds = torch.cat((im1, im2), dim=1)\n",
    "        preds = torch.relu(self.comp1(preds))\n",
    "        preds = torch.relu(self.comp2(preds))\n",
    "        y = torch.sigmoid(self.out(preds)).reshape(-1)\n",
    "\n",
    "        return y\n",
    "    \n",
    "    def predict(self, test, target, loss_function):\n",
    "        target = target.float()\n",
    "        with torch.no_grad():            \n",
    "            output = self(test)\n",
    "            loss = loss_function(output, target)\n",
    "            pred = output.round()\n",
    "            correct = (target == pred).sum().item()\n",
    "            acc = correct / test.size(0)\n",
    "            return pred, acc, loss"
   ]
  },
  {
   "cell_type": "code",
   "execution_count": 171,
   "metadata": {},
   "outputs": [
    {
     "name": "stdout",
     "output_type": "stream",
     "text": [
      "Epoch 0 - Loss: 6.843441665172577 - Train accuracy: 0.576 - Test accuracy: 0.561\n",
      "Epoch 1 - Loss: 6.849916875362396 - Train accuracy: 0.576 - Test accuracy: 0.561\n",
      "Epoch 2 - Loss: 6.823137700557709 - Train accuracy: 0.576 - Test accuracy: 0.561\n",
      "Epoch 3 - Loss: 6.8286067843437195 - Train accuracy: 0.576 - Test accuracy: 0.561\n",
      "Epoch 4 - Loss: 6.819986641407013 - Train accuracy: 0.576 - Test accuracy: 0.561\n",
      "Epoch 5 - Loss: 6.817587792873383 - Train accuracy: 0.576 - Test accuracy: 0.561\n",
      "Epoch 6 - Loss: 6.819268882274628 - Train accuracy: 0.576 - Test accuracy: 0.561\n",
      "Epoch 7 - Loss: 6.817138254642487 - Train accuracy: 0.576 - Test accuracy: 0.561\n",
      "Epoch 8 - Loss: 6.824759662151337 - Train accuracy: 0.576 - Test accuracy: 0.561\n",
      "Epoch 9 - Loss: 6.814696729183197 - Train accuracy: 0.576 - Test accuracy: 0.561\n",
      "Epoch 10 - Loss: 6.822547137737274 - Train accuracy: 0.576 - Test accuracy: 0.561\n",
      "Epoch 11 - Loss: 6.8193294405937195 - Train accuracy: 0.576 - Test accuracy: 0.561\n",
      "Epoch 12 - Loss: 6.820007264614105 - Train accuracy: 0.576 - Test accuracy: 0.561\n",
      "Epoch 13 - Loss: 6.818434655666351 - Train accuracy: 0.576 - Test accuracy: 0.561\n",
      "Epoch 14 - Loss: 6.822768807411194 - Train accuracy: 0.576 - Test accuracy: 0.561\n",
      "Epoch 15 - Loss: 6.822290897369385 - Train accuracy: 0.576 - Test accuracy: 0.561\n",
      "Epoch 16 - Loss: 6.832671165466309 - Train accuracy: 0.576 - Test accuracy: 0.561\n",
      "Epoch 17 - Loss: 6.818369805812836 - Train accuracy: 0.576 - Test accuracy: 0.561\n",
      "Epoch 18 - Loss: 6.8206257820129395 - Train accuracy: 0.576 - Test accuracy: 0.561\n",
      "Epoch 19 - Loss: 6.819708824157715 - Train accuracy: 0.576 - Test accuracy: 0.561\n",
      "Epoch 20 - Loss: 6.821906268596649 - Train accuracy: 0.576 - Test accuracy: 0.561\n",
      "Epoch 21 - Loss: 6.81699013710022 - Train accuracy: 0.576 - Test accuracy: 0.561\n",
      "Epoch 22 - Loss: 6.816876411437988 - Train accuracy: 0.576 - Test accuracy: 0.561\n",
      "Epoch 23 - Loss: 6.830950558185577 - Train accuracy: 0.576 - Test accuracy: 0.561\n",
      "Epoch 24 - Loss: 6.812961935997009 - Train accuracy: 0.576 - Test accuracy: 0.561\n"
     ]
    }
   ],
   "source": [
    "N_EPOCH = 25\n",
    "batch_size = 100\n",
    "\n",
    "lr = 0.01\n",
    "\n",
    "model = Sub_LeNet5()\n",
    "\n",
    "criterion = nn.BCELoss()\n",
    "optimizer = torch.optim.Adam(model.parameters(), lr=lr)\n",
    "\n",
    "dataset = torch.utils.data.TensorDataset(train_input, train_target.float())\n",
    "\n",
    "train_accs = []\n",
    "test_accs = []\n",
    "for epoch in range(N_EPOCH):\n",
    "    running_loss = 0\n",
    "    loader = torch.utils.data.DataLoader(dataset, batch_size=batch_size, shuffle=True)\n",
    "    for data in loader:\n",
    "        batch_x, batch_y = data\n",
    "        optimizer.zero_grad()\n",
    "        outputs = model(batch_x)\n",
    "        loss = criterion(outputs, batch_y)\n",
    "        running_loss += loss.item()\n",
    "        \n",
    "        loss.backward()\n",
    "        optimizer.step()\n",
    "        \n",
    "        \n",
    "        \n",
    "    _, train_acc, train_loss = model.predict(train_input, train_target, criterion)\n",
    "    _, test_acc, test_loss = model.predict(test_input, test_target, criterion)\n",
    "    train_accs.append(train_acc)\n",
    "    test_accs.append(test_acc)\n",
    "    print(\"Epoch {0} - Loss: {1} - Train accuracy: {2} - Test accuracy: {3}\".format(epoch, running_loss, train_acc, test_acc))\n",
    "    running_loss = 0.0\n",
    "        "
   ]
  },
  {
   "cell_type": "markdown",
   "metadata": {},
   "source": [
    "### 2. Using weight sharing"
   ]
  },
  {
   "cell_type": "code",
   "execution_count": 29,
   "metadata": {},
   "outputs": [],
   "source": [
    "###Model 2"
   ]
  },
  {
   "cell_type": "markdown",
   "metadata": {},
   "source": [
    "### 3. Using auxiliary loss"
   ]
  },
  {
   "cell_type": "code",
   "execution_count": 30,
   "metadata": {},
   "outputs": [],
   "source": [
    "###Model 3"
   ]
  },
  {
   "cell_type": "markdown",
   "metadata": {},
   "source": [
    "### 4. Bad ass model: using it all"
   ]
  },
  {
   "cell_type": "code",
   "execution_count": 31,
   "metadata": {},
   "outputs": [],
   "source": [
    "#### Model 4"
   ]
  },
  {
   "cell_type": "code",
   "execution_count": null,
   "metadata": {},
   "outputs": [],
   "source": []
  }
 ],
 "metadata": {
  "kernelspec": {
   "display_name": "Python 3",
   "language": "python",
   "name": "python3"
  },
  "language_info": {
   "codemirror_mode": {
    "name": "ipython",
    "version": 3
   },
   "file_extension": ".py",
   "mimetype": "text/x-python",
   "name": "python",
   "nbconvert_exporter": "python",
   "pygments_lexer": "ipython3",
   "version": "3.8.1"
  }
 },
 "nbformat": 4,
 "nbformat_minor": 4
}
